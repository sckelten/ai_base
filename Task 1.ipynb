{
 "cells": [
  {
   "cell_type": "markdown",
   "metadata": {},
   "source": [
    "# Рейтинговая рекомендательная система\n",
    "_______"
   ]
  },
  {
   "cell_type": "markdown",
   "metadata": {},
   "source": [
    "Начнём программировать твою первую неперсонализированную рекомендательную систему. \n",
    "\n",
    "Наш план такой:\n",
    " - Загрузим **датасет из файла movies_metadata_fixed.csv**. \n",
    " - Датасет находится в «сыром» виде, поэтому сделаем **предобработку данных**. Другими словами, подготовим все необходимые колонки из датасета и приведем в удобный формат.\n",
    " - Напишем функции, которые будут оценивать каждый фильм по некоторой **формуле**. Формул будет несколько,поэтому сможем сравнить разные рейтинги, оценить разницу и выбрать лучший вариант.\n",
    " \n",
    " _____"
   ]
  },
  {
   "cell_type": "markdown",
   "metadata": {},
   "source": [
    "Для обработки и анализа датасета нужны библиотеки Pandas и Ast, импортируем их"
   ]
  },
  {
   "cell_type": "code",
   "execution_count": 80,
   "metadata": {},
   "outputs": [],
   "source": [
    "import warnings\n",
    "warnings.filterwarnings('ignore')"
   ]
  },
  {
   "cell_type": "markdown",
   "metadata": {},
   "source": [
    "**Pandas** позволит загружать и трансформировать данные при помощи простых и понятных функций"
   ]
  },
  {
   "cell_type": "code",
   "execution_count": 81,
   "metadata": {},
   "outputs": [],
   "source": [
    "#загрузи pandas под псевдонимом pd\n",
    "import pandas as pd"
   ]
  },
  {
   "cell_type": "markdown",
   "metadata": {},
   "source": [
    "Библиотека **Ast** и пакет **Literal_eval** пригодятся для извлечения информации из «сырых» форматов данных"
   ]
  },
  {
   "cell_type": "code",
   "execution_count": 82,
   "metadata": {},
   "outputs": [],
   "source": [
    "from ast import literal_eval"
   ]
  },
  {
   "cell_type": "markdown",
   "metadata": {},
   "source": [
    "Загружаем датасет из файла **movies_metadata_fixed.csv**"
   ]
  },
  {
   "cell_type": "code",
   "execution_count": 83,
   "metadata": {},
   "outputs": [
    {
     "data": {
      "text/html": [
       "<div>\n",
       "<style scoped>\n",
       "    .dataframe tbody tr th:only-of-type {\n",
       "        vertical-align: middle;\n",
       "    }\n",
       "\n",
       "    .dataframe tbody tr th {\n",
       "        vertical-align: top;\n",
       "    }\n",
       "\n",
       "    .dataframe thead th {\n",
       "        text-align: right;\n",
       "    }\n",
       "</style>\n",
       "<table border=\"1\" class=\"dataframe\">\n",
       "  <thead>\n",
       "    <tr style=\"text-align: right;\">\n",
       "      <th></th>\n",
       "      <th>adult</th>\n",
       "      <th>belongs_to_collection</th>\n",
       "      <th>budget</th>\n",
       "      <th>genres</th>\n",
       "      <th>homepage</th>\n",
       "      <th>id</th>\n",
       "      <th>imdb_id</th>\n",
       "      <th>original_language</th>\n",
       "      <th>original_title</th>\n",
       "      <th>overview</th>\n",
       "      <th>...</th>\n",
       "      <th>release_date</th>\n",
       "      <th>revenue</th>\n",
       "      <th>runtime</th>\n",
       "      <th>spoken_languages</th>\n",
       "      <th>status</th>\n",
       "      <th>tagline</th>\n",
       "      <th>title</th>\n",
       "      <th>video</th>\n",
       "      <th>vote_average</th>\n",
       "      <th>vote_count</th>\n",
       "    </tr>\n",
       "  </thead>\n",
       "  <tbody>\n",
       "    <tr>\n",
       "      <th>0</th>\n",
       "      <td>False</td>\n",
       "      <td>{'id': 10194, 'name': 'Toy Story Collection', ...</td>\n",
       "      <td>30000000</td>\n",
       "      <td>[{'id': 16, 'name': 'Animation'}, {'id': 35, '...</td>\n",
       "      <td>http://toystory.disney.com/toy-story</td>\n",
       "      <td>862</td>\n",
       "      <td>tt0114709</td>\n",
       "      <td>en</td>\n",
       "      <td>Toy Story</td>\n",
       "      <td>Led by Woody, Andy's toys live happily in his ...</td>\n",
       "      <td>...</td>\n",
       "      <td>1995-10-30</td>\n",
       "      <td>373554033</td>\n",
       "      <td>81.0</td>\n",
       "      <td>[{'iso_639_1': 'en', 'name': 'English'}]</td>\n",
       "      <td>Released</td>\n",
       "      <td>NaN</td>\n",
       "      <td>Toy Story</td>\n",
       "      <td>False</td>\n",
       "      <td>7.7</td>\n",
       "      <td>5415</td>\n",
       "    </tr>\n",
       "    <tr>\n",
       "      <th>1</th>\n",
       "      <td>False</td>\n",
       "      <td>NaN</td>\n",
       "      <td>65000000</td>\n",
       "      <td>[{'id': 12, 'name': 'Adventure'}, {'id': 14, '...</td>\n",
       "      <td>NaN</td>\n",
       "      <td>8844</td>\n",
       "      <td>tt0113497</td>\n",
       "      <td>en</td>\n",
       "      <td>Jumanji</td>\n",
       "      <td>When siblings Judy and Peter discover an encha...</td>\n",
       "      <td>...</td>\n",
       "      <td>1995-12-15</td>\n",
       "      <td>262797249</td>\n",
       "      <td>104.0</td>\n",
       "      <td>[{'iso_639_1': 'en', 'name': 'English'}, {'iso...</td>\n",
       "      <td>Released</td>\n",
       "      <td>Roll the dice and unleash the excitement!</td>\n",
       "      <td>Jumanji</td>\n",
       "      <td>False</td>\n",
       "      <td>6.9</td>\n",
       "      <td>2413</td>\n",
       "    </tr>\n",
       "    <tr>\n",
       "      <th>2</th>\n",
       "      <td>False</td>\n",
       "      <td>{'id': 119050, 'name': 'Grumpy Old Men Collect...</td>\n",
       "      <td>0</td>\n",
       "      <td>[{'id': 10749, 'name': 'Romance'}, {'id': 35, ...</td>\n",
       "      <td>NaN</td>\n",
       "      <td>15602</td>\n",
       "      <td>tt0113228</td>\n",
       "      <td>en</td>\n",
       "      <td>Grumpier Old Men</td>\n",
       "      <td>A family wedding reignites the ancient feud be...</td>\n",
       "      <td>...</td>\n",
       "      <td>1995-12-22</td>\n",
       "      <td>0</td>\n",
       "      <td>101.0</td>\n",
       "      <td>[{'iso_639_1': 'en', 'name': 'English'}]</td>\n",
       "      <td>Released</td>\n",
       "      <td>Still Yelling. Still Fighting. Still Ready for...</td>\n",
       "      <td>Grumpier Old Men</td>\n",
       "      <td>False</td>\n",
       "      <td>6.5</td>\n",
       "      <td>92</td>\n",
       "    </tr>\n",
       "  </tbody>\n",
       "</table>\n",
       "<p>3 rows × 24 columns</p>\n",
       "</div>"
      ],
      "text/plain": [
       "   adult                              belongs_to_collection    budget  \\\n",
       "0  False  {'id': 10194, 'name': 'Toy Story Collection', ...  30000000   \n",
       "1  False                                                NaN  65000000   \n",
       "2  False  {'id': 119050, 'name': 'Grumpy Old Men Collect...         0   \n",
       "\n",
       "                                              genres  \\\n",
       "0  [{'id': 16, 'name': 'Animation'}, {'id': 35, '...   \n",
       "1  [{'id': 12, 'name': 'Adventure'}, {'id': 14, '...   \n",
       "2  [{'id': 10749, 'name': 'Romance'}, {'id': 35, ...   \n",
       "\n",
       "                               homepage     id    imdb_id original_language  \\\n",
       "0  http://toystory.disney.com/toy-story    862  tt0114709                en   \n",
       "1                                   NaN   8844  tt0113497                en   \n",
       "2                                   NaN  15602  tt0113228                en   \n",
       "\n",
       "     original_title                                           overview  ...  \\\n",
       "0         Toy Story  Led by Woody, Andy's toys live happily in his ...  ...   \n",
       "1           Jumanji  When siblings Judy and Peter discover an encha...  ...   \n",
       "2  Grumpier Old Men  A family wedding reignites the ancient feud be...  ...   \n",
       "\n",
       "   release_date    revenue runtime  \\\n",
       "0    1995-10-30  373554033    81.0   \n",
       "1    1995-12-15  262797249   104.0   \n",
       "2    1995-12-22          0   101.0   \n",
       "\n",
       "                                    spoken_languages    status  \\\n",
       "0           [{'iso_639_1': 'en', 'name': 'English'}]  Released   \n",
       "1  [{'iso_639_1': 'en', 'name': 'English'}, {'iso...  Released   \n",
       "2           [{'iso_639_1': 'en', 'name': 'English'}]  Released   \n",
       "\n",
       "                                             tagline             title  video  \\\n",
       "0                                                NaN         Toy Story  False   \n",
       "1          Roll the dice and unleash the excitement!           Jumanji  False   \n",
       "2  Still Yelling. Still Fighting. Still Ready for...  Grumpier Old Men  False   \n",
       "\n",
       "  vote_average vote_count  \n",
       "0          7.7       5415  \n",
       "1          6.9       2413  \n",
       "2          6.5         92  \n",
       "\n",
       "[3 rows x 24 columns]"
      ]
     },
     "execution_count": 83,
     "metadata": {},
     "output_type": "execute_result"
    }
   ],
   "source": [
    "path_to_dataset = 'movies_metadata_fixed.csv'#укажи верный путь к файлу на своем устройстве\n",
    "dataset = pd.read_csv(path_to_dataset)\n",
    "dataset.head(3)"
   ]
  },
  {
   "cell_type": "markdown",
   "metadata": {},
   "source": [
    "По строкам в датасете хранятся отдельные фильмы. После загрузки файла, ты увидишь, что в столбцах для каждого фильма доступна разная информация: бюджет, название, актеры, режиссеры, обзор, язык и т.д. \n",
    "\n",
    "В первом задании нас интересуют несколько переменных: жанр(genres), год выпуска(year), средний рейтинг фильма(vote_average) и количество оценок фильма(vote_count)."
   ]
  },
  {
   "cell_type": "markdown",
   "metadata": {},
   "source": [
    "____\n",
    "\n",
    "### Жанры"
   ]
  },
  {
   "cell_type": "markdown",
   "metadata": {},
   "source": [
    "Начнем с колонки \"жанры\" и посмотрим, как она выглядит:"
   ]
  },
  {
   "cell_type": "code",
   "execution_count": 84,
   "metadata": {},
   "outputs": [
    {
     "data": {
      "text/plain": [
       "\"[{'id': 16, 'name': 'Animation'}, {'id': 35, 'name': 'Comedy'}, {'id': 10751, 'name': 'Family'}]\""
      ]
     },
     "execution_count": 84,
     "metadata": {},
     "output_type": "execute_result"
    }
   ],
   "source": [
    "#посмотри на значения элементов в колонке genres\n",
    "dataset.genres.iloc[0]"
   ]
  },
  {
   "cell_type": "markdown",
   "metadata": {},
   "source": [
    "Что видим? Строка, в которой записан список словарей. Очевидно, что нам не нужно столько информации, поэтому преобразуем это поле в обычный список. Здесь пригодится пакет literal_eval, который может обрабатывать подобные строки. Например:"
   ]
  },
  {
   "cell_type": "code",
   "execution_count": 85,
   "metadata": {
    "scrolled": true
   },
   "outputs": [
    {
     "data": {
      "text/plain": [
       "[{'id': 16, 'name': 'Animation'},\n",
       " {'id': 35, 'name': 'Comedy'},\n",
       " {'id': 10751, 'name': 'Family'}]"
      ]
     },
     "execution_count": 85,
     "metadata": {},
     "output_type": "execute_result"
    }
   ],
   "source": [
    "literal_eval(dataset['genres'].iloc[0])"
   ]
  },
  {
   "cell_type": "markdown",
   "metadata": {},
   "source": [
    "На выходе **Literal_eval** всё тот же список словарей, но теперь он не в виде строки, а в виде объектов языка Python."
   ]
  },
  {
   "cell_type": "markdown",
   "metadata": {},
   "source": [
    "Чтобы получить список жанров из такой структуры, нужно обратиться к полю **name** в каждом элементе списка словарей."
   ]
  },
  {
   "cell_type": "code",
   "execution_count": 86,
   "metadata": {},
   "outputs": [
    {
     "data": {
      "text/plain": [
       "['Animation', 'Comedy', 'Family']"
      ]
     },
     "execution_count": 86,
     "metadata": {},
     "output_type": "execute_result"
    }
   ],
   "source": [
    "[i['name'] for i in literal_eval(dataset['genres'].iloc[0])]"
   ]
  },
  {
   "cell_type": "markdown",
   "metadata": {},
   "source": [
    "Теперь преобразуем поле **genres** целиком так же, как и в примере выше "
   ]
  },
  {
   "cell_type": "code",
   "execution_count": 87,
   "metadata": {},
   "outputs": [],
   "source": [
    "dataset['genres'] = dataset['genres'].fillna('[]')\\\n",
    "                                     .apply(literal_eval)\\\n",
    "                                     .apply(lambda x: [i['name'] for i in x] if isinstance(x, list) else [])"
   ]
  },
  {
   "cell_type": "code",
   "execution_count": 88,
   "metadata": {},
   "outputs": [
    {
     "data": {
      "text/plain": [
       "0     [Animation, Comedy, Family]\n",
       "1    [Adventure, Fantasy, Family]\n",
       "2               [Romance, Comedy]\n",
       "3        [Comedy, Drama, Romance]\n",
       "4                        [Comedy]\n",
       "Name: genres, dtype: object"
      ]
     },
     "execution_count": 88,
     "metadata": {},
     "output_type": "execute_result"
    }
   ],
   "source": [
    "dataset['genres'].head()"
   ]
  },
  {
   "cell_type": "markdown",
   "metadata": {},
   "source": [
    "Выясним, фильмы каких жанров содержатся в датасете. "
   ]
  },
  {
   "cell_type": "code",
   "execution_count": 89,
   "metadata": {},
   "outputs": [
    {
     "data": {
      "text/plain": [
       "{'Action',\n",
       " 'Adventure',\n",
       " 'Animation',\n",
       " 'Comedy',\n",
       " 'Crime',\n",
       " 'Documentary',\n",
       " 'Drama',\n",
       " 'Family',\n",
       " 'Fantasy',\n",
       " 'Foreign',\n",
       " 'History',\n",
       " 'Horror',\n",
       " 'Music',\n",
       " 'Mystery',\n",
       " 'Romance',\n",
       " 'Science Fiction',\n",
       " 'TV Movie',\n",
       " 'Thriller',\n",
       " 'War',\n",
       " 'Western'}"
      ]
     },
     "execution_count": 89,
     "metadata": {},
     "output_type": "execute_result"
    }
   ],
   "source": [
    "import functools\n",
    "available_genres = functools.reduce(lambda x,y: set(x).union(set(y)), dataset.genres.tolist())\n",
    "available_genres"
   ]
  },
  {
   "cell_type": "markdown",
   "metadata": {},
   "source": [
    "Отлично, мы получили в распоряжение полный список жанров фильмов в датасете, переходим к следующей колонке."
   ]
  },
  {
   "cell_type": "markdown",
   "metadata": {},
   "source": [
    "___\n",
    "\n",
    "\n",
    "###  Год выпуска"
   ]
  },
  {
   "cell_type": "markdown",
   "metadata": {},
   "source": [
    "Год выпуска фильма можно извлечь из поля release_date. Сделаем это с помощью функций Pandas."
   ]
  },
  {
   "cell_type": "code",
   "execution_count": 92,
   "metadata": {},
   "outputs": [
    {
     "data": {
      "text/plain": [
       "dtype('float64')"
      ]
     },
     "execution_count": 92,
     "metadata": {},
     "output_type": "execute_result"
    }
   ],
   "source": [
    "dataset['year'] = pd.to_datetime(dataset.release_date).dt.year\n",
    "dataset.year.dtype"
   ]
  },
  {
   "cell_type": "markdown",
   "metadata": {},
   "source": [
    "___\n",
    "\n",
    "### Оценки пользователей"
   ]
  },
  {
   "cell_type": "markdown",
   "metadata": {},
   "source": [
    "Что дальше? Для построения рейтинга нам пригодятся 2 колонки с оценками пользователей: vote_average и vote_count. Убедимся, что эти колонки в числовом формате, а если нет, преобразуем их."
   ]
  },
  {
   "cell_type": "code",
   "execution_count": 93,
   "metadata": {},
   "outputs": [
    {
     "data": {
      "text/plain": [
       "vote_count        int64\n",
       "vote_average    float64\n",
       "dtype: object"
      ]
     },
     "execution_count": 93,
     "metadata": {},
     "output_type": "execute_result"
    }
   ],
   "source": [
    "dataset[['vote_count', 'vote_average']].dtypes"
   ]
  },
  {
   "cell_type": "markdown",
   "metadata": {},
   "source": [
    "Их типы int64 и float64. Все в порядке."
   ]
  },
  {
   "cell_type": "markdown",
   "metadata": {},
   "source": [
    "____\n",
    "\n",
    "### Формула ранжирования"
   ]
  },
  {
   "cell_type": "markdown",
   "metadata": {},
   "source": [
    "Перед тем как перейти к созданию формул, оставим только необходимые для работы поля в датасете, а другие удалим за ненадобностью."
   ]
  },
  {
   "cell_type": "code",
   "execution_count": 94,
   "metadata": {},
   "outputs": [],
   "source": [
    "def process_dataset(df): \n",
    "    # Удаление фильмов, для которых отсутствует информация о среднем рейтинге и кол-ве проголосовавших пользователей. \n",
    "    # Используй метод notnull() для интересующих колонок\n",
    "    ok_rows = ((dataset.vote_count.notnull()) & (dataset.vote_average.notnull()))\n",
    "    rank_dataset = dataset[ok_rows]\n",
    "    \n",
    "    # Оставим в нашем датасете только колонки: 'title', 'year', 'vote_count', 'vote_average', 'genres'\n",
    "    usecols_ = ['title', 'year', 'vote_count', 'vote_average', 'genres', 'adult']\n",
    "    rank_dataset = dataset[usecols_]\n",
    "    \n",
    "    return rank_dataset"
   ]
  },
  {
   "cell_type": "code",
   "execution_count": 96,
   "metadata": {},
   "outputs": [
    {
     "data": {
      "text/html": [
       "<div>\n",
       "<style scoped>\n",
       "    .dataframe tbody tr th:only-of-type {\n",
       "        vertical-align: middle;\n",
       "    }\n",
       "\n",
       "    .dataframe tbody tr th {\n",
       "        vertical-align: top;\n",
       "    }\n",
       "\n",
       "    .dataframe thead th {\n",
       "        text-align: right;\n",
       "    }\n",
       "</style>\n",
       "<table border=\"1\" class=\"dataframe\">\n",
       "  <thead>\n",
       "    <tr style=\"text-align: right;\">\n",
       "      <th></th>\n",
       "      <th>title</th>\n",
       "      <th>year</th>\n",
       "      <th>vote_count</th>\n",
       "      <th>vote_average</th>\n",
       "      <th>genres</th>\n",
       "      <th>adult</th>\n",
       "    </tr>\n",
       "  </thead>\n",
       "  <tbody>\n",
       "    <tr>\n",
       "      <th>0</th>\n",
       "      <td>Toy Story</td>\n",
       "      <td>1995.0</td>\n",
       "      <td>5415</td>\n",
       "      <td>7.7</td>\n",
       "      <td>[Animation, Comedy, Family]</td>\n",
       "      <td>False</td>\n",
       "    </tr>\n",
       "    <tr>\n",
       "      <th>1</th>\n",
       "      <td>Jumanji</td>\n",
       "      <td>1995.0</td>\n",
       "      <td>2413</td>\n",
       "      <td>6.9</td>\n",
       "      <td>[Adventure, Fantasy, Family]</td>\n",
       "      <td>False</td>\n",
       "    </tr>\n",
       "    <tr>\n",
       "      <th>2</th>\n",
       "      <td>Grumpier Old Men</td>\n",
       "      <td>1995.0</td>\n",
       "      <td>92</td>\n",
       "      <td>6.5</td>\n",
       "      <td>[Romance, Comedy]</td>\n",
       "      <td>False</td>\n",
       "    </tr>\n",
       "    <tr>\n",
       "      <th>3</th>\n",
       "      <td>Waiting to Exhale</td>\n",
       "      <td>1995.0</td>\n",
       "      <td>34</td>\n",
       "      <td>6.1</td>\n",
       "      <td>[Comedy, Drama, Romance]</td>\n",
       "      <td>False</td>\n",
       "    </tr>\n",
       "    <tr>\n",
       "      <th>4</th>\n",
       "      <td>Father of the Bride Part II</td>\n",
       "      <td>1995.0</td>\n",
       "      <td>173</td>\n",
       "      <td>5.7</td>\n",
       "      <td>[Comedy]</td>\n",
       "      <td>False</td>\n",
       "    </tr>\n",
       "  </tbody>\n",
       "</table>\n",
       "</div>"
      ],
      "text/plain": [
       "                         title    year  vote_count  vote_average  \\\n",
       "0                    Toy Story  1995.0        5415           7.7   \n",
       "1                      Jumanji  1995.0        2413           6.9   \n",
       "2             Grumpier Old Men  1995.0          92           6.5   \n",
       "3            Waiting to Exhale  1995.0          34           6.1   \n",
       "4  Father of the Bride Part II  1995.0         173           5.7   \n",
       "\n",
       "                         genres  adult  \n",
       "0   [Animation, Comedy, Family]  False  \n",
       "1  [Adventure, Fantasy, Family]  False  \n",
       "2             [Romance, Comedy]  False  \n",
       "3      [Comedy, Drama, Romance]  False  \n",
       "4                      [Comedy]  False  "
      ]
     },
     "execution_count": 96,
     "metadata": {},
     "output_type": "execute_result"
    }
   ],
   "source": [
    "dataset  = process_dataset(dataset.copy())\n",
    "dataset.head()"
   ]
  },
  {
   "cell_type": "markdown",
   "metadata": {},
   "source": [
    "Теперь гораздо удобнее работать с датасетом. Приступаем к разработке рекомендательной системы. "
   ]
  },
  {
   "cell_type": "markdown",
   "metadata": {},
   "source": [
    "Главный элемент для систем неперсональных рекомендаций — это формула для составления рейтинга фильма. Мы запрограммируем несколько вариантов такой формулы и отсортируем все фильмы по показателю рейтинга. "
   ]
  },
  {
   "cell_type": "markdown",
   "metadata": {},
   "source": [
    "У тебя может возникнуть вопрос:\n",
    "\n",
    "— Если есть колонка vote_average, где посчитан средний рейтинг фильма, то почему бы просто не использовать это поле?\n",
    "\n",
    "Действительно, это самый простой вариант (и даже посчитанный за нас). Давай посмотрим, что получится, если использовать такую схему для формирования рейтинга (ранжирования) фильмов."
   ]
  },
  {
   "cell_type": "code",
   "execution_count": 97,
   "metadata": {},
   "outputs": [
    {
     "data": {
      "text/html": [
       "<div>\n",
       "<style scoped>\n",
       "    .dataframe tbody tr th:only-of-type {\n",
       "        vertical-align: middle;\n",
       "    }\n",
       "\n",
       "    .dataframe tbody tr th {\n",
       "        vertical-align: top;\n",
       "    }\n",
       "\n",
       "    .dataframe thead th {\n",
       "        text-align: right;\n",
       "    }\n",
       "</style>\n",
       "<table border=\"1\" class=\"dataframe\">\n",
       "  <thead>\n",
       "    <tr style=\"text-align: right;\">\n",
       "      <th></th>\n",
       "      <th>title</th>\n",
       "      <th>year</th>\n",
       "      <th>vote_count</th>\n",
       "      <th>vote_average</th>\n",
       "      <th>genres</th>\n",
       "      <th>adult</th>\n",
       "      <th>formula</th>\n",
       "    </tr>\n",
       "  </thead>\n",
       "  <tbody>\n",
       "    <tr>\n",
       "      <th>0</th>\n",
       "      <td>Zig Zag Story</td>\n",
       "      <td>1983.0</td>\n",
       "      <td>1</td>\n",
       "      <td>10.0</td>\n",
       "      <td>[Drama, Comedy]</td>\n",
       "      <td>False</td>\n",
       "      <td>10.0</td>\n",
       "    </tr>\n",
       "    <tr>\n",
       "      <th>1</th>\n",
       "      <td>Tall Story</td>\n",
       "      <td>1960.0</td>\n",
       "      <td>1</td>\n",
       "      <td>10.0</td>\n",
       "      <td>[Comedy]</td>\n",
       "      <td>False</td>\n",
       "      <td>10.0</td>\n",
       "    </tr>\n",
       "    <tr>\n",
       "      <th>2</th>\n",
       "      <td>Birch Interval</td>\n",
       "      <td>1976.0</td>\n",
       "      <td>1</td>\n",
       "      <td>10.0</td>\n",
       "      <td>[Drama]</td>\n",
       "      <td>False</td>\n",
       "      <td>10.0</td>\n",
       "    </tr>\n",
       "    <tr>\n",
       "      <th>3</th>\n",
       "      <td>Mad at the Moon</td>\n",
       "      <td>1992.0</td>\n",
       "      <td>1</td>\n",
       "      <td>10.0</td>\n",
       "      <td>[]</td>\n",
       "      <td>False</td>\n",
       "      <td>10.0</td>\n",
       "    </tr>\n",
       "    <tr>\n",
       "      <th>4</th>\n",
       "      <td>The White Shadow</td>\n",
       "      <td>1924.0</td>\n",
       "      <td>1</td>\n",
       "      <td>10.0</td>\n",
       "      <td>[]</td>\n",
       "      <td>False</td>\n",
       "      <td>10.0</td>\n",
       "    </tr>\n",
       "    <tr>\n",
       "      <th>5</th>\n",
       "      <td>Forever</td>\n",
       "      <td>2006.0</td>\n",
       "      <td>1</td>\n",
       "      <td>10.0</td>\n",
       "      <td>[Documentary]</td>\n",
       "      <td>False</td>\n",
       "      <td>10.0</td>\n",
       "    </tr>\n",
       "    <tr>\n",
       "      <th>6</th>\n",
       "      <td>Chilly Scenes of Winter</td>\n",
       "      <td>1979.0</td>\n",
       "      <td>1</td>\n",
       "      <td>10.0</td>\n",
       "      <td>[Comedy, Drama, Romance]</td>\n",
       "      <td>False</td>\n",
       "      <td>10.0</td>\n",
       "    </tr>\n",
       "    <tr>\n",
       "      <th>7</th>\n",
       "      <td>The Great Kidnapping</td>\n",
       "      <td>1973.0</td>\n",
       "      <td>1</td>\n",
       "      <td>10.0</td>\n",
       "      <td>[Crime]</td>\n",
       "      <td>False</td>\n",
       "      <td>10.0</td>\n",
       "    </tr>\n",
       "    <tr>\n",
       "      <th>8</th>\n",
       "      <td>Backyard Dogs</td>\n",
       "      <td>2001.0</td>\n",
       "      <td>1</td>\n",
       "      <td>10.0</td>\n",
       "      <td>[Action, Comedy]</td>\n",
       "      <td>False</td>\n",
       "      <td>10.0</td>\n",
       "    </tr>\n",
       "    <tr>\n",
       "      <th>9</th>\n",
       "      <td>Oh, Bomb!</td>\n",
       "      <td>1964.0</td>\n",
       "      <td>1</td>\n",
       "      <td>10.0</td>\n",
       "      <td>[Music, Comedy, Action, Crime]</td>\n",
       "      <td>False</td>\n",
       "      <td>10.0</td>\n",
       "    </tr>\n",
       "  </tbody>\n",
       "</table>\n",
       "</div>"
      ],
      "text/plain": [
       "                     title    year  vote_count  vote_average  \\\n",
       "0            Zig Zag Story  1983.0           1          10.0   \n",
       "1               Tall Story  1960.0           1          10.0   \n",
       "2           Birch Interval  1976.0           1          10.0   \n",
       "3          Mad at the Moon  1992.0           1          10.0   \n",
       "4         The White Shadow  1924.0           1          10.0   \n",
       "5                  Forever  2006.0           1          10.0   \n",
       "6  Chilly Scenes of Winter  1979.0           1          10.0   \n",
       "7     The Great Kidnapping  1973.0           1          10.0   \n",
       "8            Backyard Dogs  2001.0           1          10.0   \n",
       "9                Oh, Bomb!  1964.0           1          10.0   \n",
       "\n",
       "                           genres  adult  formula  \n",
       "0                 [Drama, Comedy]  False     10.0  \n",
       "1                        [Comedy]  False     10.0  \n",
       "2                         [Drama]  False     10.0  \n",
       "3                              []  False     10.0  \n",
       "4                              []  False     10.0  \n",
       "5                   [Documentary]  False     10.0  \n",
       "6        [Comedy, Drama, Romance]  False     10.0  \n",
       "7                         [Crime]  False     10.0  \n",
       "8                [Action, Comedy]  False     10.0  \n",
       "9  [Music, Comedy, Action, Crime]  False     10.0  "
      ]
     },
     "execution_count": 97,
     "metadata": {},
     "output_type": "execute_result"
    }
   ],
   "source": [
    "def simple_formula(input_ds):\n",
    "    \"\"\"\n",
    "    Films are ranked by vote_average\n",
    "    \"\"\"\n",
    "    #извлекаем среднюю оценку vote_average\n",
    "    v_avr = input_ds.vote_average\n",
    "    return v_avr\n",
    "\n",
    "def recommend_simple(input_films, n_items):\n",
    "    rank = input_films.copy()\n",
    "    #применяем простую формулу ко всем строкам при помощи лямбда-функции\n",
    "    rank['formula'] = rank.apply(lambda x: simple_formula(x), axis='columns')\n",
    "    rank.sort_values('formula', ascending=False, inplace=True)\n",
    "    return rank.head(n_items).reset_index(drop=True)\n",
    "\n",
    "recommend_simple(dataset, 10)"
   ]
  },
  {
   "cell_type": "markdown",
   "metadata": {},
   "source": [
    "Какой получился результат? Мы получили список фильмов с самым высоким рейтингом, но легко заметить, что этот рейтинг был сформирован из оценок только одного пользователя. Думаю, ты бы не стал смотреть ничего из этого списка.\n",
    "\n",
    "Как справится с этой незадачей? Простой способ: учесть количество средних оценок для каждого фильма."
   ]
  },
  {
   "cell_type": "code",
   "execution_count": 69,
   "metadata": {},
   "outputs": [
    {
     "data": {
      "text/html": [
       "<div>\n",
       "<style scoped>\n",
       "    .dataframe tbody tr th:only-of-type {\n",
       "        vertical-align: middle;\n",
       "    }\n",
       "\n",
       "    .dataframe tbody tr th {\n",
       "        vertical-align: top;\n",
       "    }\n",
       "\n",
       "    .dataframe thead th {\n",
       "        text-align: right;\n",
       "    }\n",
       "</style>\n",
       "<table border=\"1\" class=\"dataframe\">\n",
       "  <thead>\n",
       "    <tr style=\"text-align: right;\">\n",
       "      <th></th>\n",
       "      <th>title</th>\n",
       "      <th>year</th>\n",
       "      <th>vote_count</th>\n",
       "      <th>vote_average</th>\n",
       "      <th>genres</th>\n",
       "      <th>formula</th>\n",
       "    </tr>\n",
       "  </thead>\n",
       "  <tbody>\n",
       "    <tr>\n",
       "      <th>0</th>\n",
       "      <td>Inception</td>\n",
       "      <td>2010.0</td>\n",
       "      <td>14075</td>\n",
       "      <td>8.1</td>\n",
       "      <td>[Action, Thriller, Science Fiction, Mystery, A...</td>\n",
       "      <td>114007.5</td>\n",
       "    </tr>\n",
       "    <tr>\n",
       "      <th>1</th>\n",
       "      <td>The Dark Knight</td>\n",
       "      <td>2008.0</td>\n",
       "      <td>12269</td>\n",
       "      <td>8.3</td>\n",
       "      <td>[Drama, Action, Crime, Thriller]</td>\n",
       "      <td>101832.7</td>\n",
       "    </tr>\n",
       "    <tr>\n",
       "      <th>2</th>\n",
       "      <td>Interstellar</td>\n",
       "      <td>2014.0</td>\n",
       "      <td>11187</td>\n",
       "      <td>8.1</td>\n",
       "      <td>[Adventure, Drama, Science Fiction]</td>\n",
       "      <td>90614.7</td>\n",
       "    </tr>\n",
       "    <tr>\n",
       "      <th>3</th>\n",
       "      <td>The Avengers</td>\n",
       "      <td>2012.0</td>\n",
       "      <td>12000</td>\n",
       "      <td>7.4</td>\n",
       "      <td>[Science Fiction, Action, Adventure]</td>\n",
       "      <td>88800.0</td>\n",
       "    </tr>\n",
       "    <tr>\n",
       "      <th>4</th>\n",
       "      <td>Avatar</td>\n",
       "      <td>2009.0</td>\n",
       "      <td>12114</td>\n",
       "      <td>7.2</td>\n",
       "      <td>[Action, Adventure, Fantasy, Science Fiction]</td>\n",
       "      <td>87220.8</td>\n",
       "    </tr>\n",
       "    <tr>\n",
       "      <th>5</th>\n",
       "      <td>Deadpool</td>\n",
       "      <td>2016.0</td>\n",
       "      <td>11444</td>\n",
       "      <td>7.4</td>\n",
       "      <td>[Action, Adventure, Comedy]</td>\n",
       "      <td>84685.6</td>\n",
       "    </tr>\n",
       "    <tr>\n",
       "      <th>6</th>\n",
       "      <td>Fight Club</td>\n",
       "      <td>1999.0</td>\n",
       "      <td>9678</td>\n",
       "      <td>8.3</td>\n",
       "      <td>[Drama]</td>\n",
       "      <td>80327.4</td>\n",
       "    </tr>\n",
       "    <tr>\n",
       "      <th>7</th>\n",
       "      <td>Django Unchained</td>\n",
       "      <td>2012.0</td>\n",
       "      <td>10297</td>\n",
       "      <td>7.8</td>\n",
       "      <td>[Drama, Western]</td>\n",
       "      <td>80316.6</td>\n",
       "    </tr>\n",
       "    <tr>\n",
       "      <th>8</th>\n",
       "      <td>Guardians of the Galaxy</td>\n",
       "      <td>2014.0</td>\n",
       "      <td>10014</td>\n",
       "      <td>7.9</td>\n",
       "      <td>[Action, Science Fiction, Adventure]</td>\n",
       "      <td>79110.6</td>\n",
       "    </tr>\n",
       "    <tr>\n",
       "      <th>9</th>\n",
       "      <td>Pulp Fiction</td>\n",
       "      <td>1994.0</td>\n",
       "      <td>8670</td>\n",
       "      <td>8.3</td>\n",
       "      <td>[Thriller, Crime]</td>\n",
       "      <td>71961.0</td>\n",
       "    </tr>\n",
       "  </tbody>\n",
       "</table>\n",
       "</div>"
      ],
      "text/plain": [
       "                     title    year  vote_count  vote_average  \\\n",
       "0                Inception  2010.0       14075           8.1   \n",
       "1          The Dark Knight  2008.0       12269           8.3   \n",
       "2             Interstellar  2014.0       11187           8.1   \n",
       "3             The Avengers  2012.0       12000           7.4   \n",
       "4                   Avatar  2009.0       12114           7.2   \n",
       "5                 Deadpool  2016.0       11444           7.4   \n",
       "6               Fight Club  1999.0        9678           8.3   \n",
       "7         Django Unchained  2012.0       10297           7.8   \n",
       "8  Guardians of the Galaxy  2014.0       10014           7.9   \n",
       "9             Pulp Fiction  1994.0        8670           8.3   \n",
       "\n",
       "                                              genres   formula  \n",
       "0  [Action, Thriller, Science Fiction, Mystery, A...  114007.5  \n",
       "1                   [Drama, Action, Crime, Thriller]  101832.7  \n",
       "2                [Adventure, Drama, Science Fiction]   90614.7  \n",
       "3               [Science Fiction, Action, Adventure]   88800.0  \n",
       "4      [Action, Adventure, Fantasy, Science Fiction]   87220.8  \n",
       "5                        [Action, Adventure, Comedy]   84685.6  \n",
       "6                                            [Drama]   80327.4  \n",
       "7                                   [Drama, Western]   80316.6  \n",
       "8               [Action, Science Fiction, Adventure]   79110.6  \n",
       "9                                  [Thriller, Crime]   71961.0  "
      ]
     },
     "execution_count": 69,
     "metadata": {},
     "output_type": "execute_result"
    }
   ],
   "source": [
    "def better_formula(input_ds):\n",
    "    #извлекаем количество оценивших vote_count\n",
    "    v_count = input_ds.vote_count\n",
    "    #извлекаем среднюю оценку vote_average\n",
    "    v_avr = input_ds.vote_average\n",
    "    #возвращаем их произведение, это самый простой способ учесть количество\n",
    "    return v_count * v_avr\n",
    "\n",
    "def recommend_better(input_films, n_items):\n",
    "    rank = input_films.copy()\n",
    "    #применим формулу ко всем строкам при помощи лямбда-функции\n",
    "    rank['formula'] = rank.apply(lambda x: better_formula(x), axis='columns')\n",
    "    rank.sort_values('formula', ascending=False, inplace=True)\n",
    "    return rank.head(n_items).reset_index(drop=True)\n",
    "\n",
    "recommend_better(dataset, 10)"
   ]
  },
  {
   "cell_type": "markdown",
   "metadata": {},
   "source": [
    "Видим, что результат стал гораздо лучше, в топе рейтинга находятся довольно известные и популярные фильмы. \n",
    "___\n",
    "\n",
    "Можно ли сделать лучше? Точно, **ДА**. \n",
    "\n",
    "До этого мы готовы были порекомендовать любой фильм доступный в датасете, даже если его рейтинг сформирован оценкой единственного человека. \n",
    "\n",
    "Однако, наша задача - порекомендовать один или несколько фильмов, у которых по-настоящему высокий рейтинг, даже если сейчас его оценили всего несколько человек. Каким был бы рейтинг такого фильма, если бы его посмотрело больше людей? Мы можем только предполагать, поэтому нам остается лишь вариант со средним арифметическим, потому что по статистике, это будет наилучшая оценка среднего.\n",
    "\n",
    "Если есть отзывы о фильме и какая-то начальная средняя оценка (даже состоящая из 1-го голоса), нечестно её не учитывать.\n",
    "\n",
    "Для нашей финальной формулы мы попробуем учесть и среднее арифметическое, и текущую оценку одновременно. Но как? Ответ: взвешенное среднее. Это такое среднее, которое учитывает важность отдельных элементов в формуле. В нашем случае, чем больше людей (vote_count) оставили оценку фильму, тем важнее эта информация для общего рейтинга. "
   ]
  },
  {
   "cell_type": "code",
   "execution_count": 72,
   "metadata": {},
   "outputs": [
    {
     "name": "stdout",
     "output_type": "stream",
     "text": [
      "Minimum number of votes: 433. Average overall rating: 5.618217011635541\n"
     ]
    },
    {
     "data": {
      "text/html": [
       "<div>\n",
       "<style scoped>\n",
       "    .dataframe tbody tr th:only-of-type {\n",
       "        vertical-align: middle;\n",
       "    }\n",
       "\n",
       "    .dataframe tbody tr th {\n",
       "        vertical-align: top;\n",
       "    }\n",
       "\n",
       "    .dataframe thead th {\n",
       "        text-align: right;\n",
       "    }\n",
       "</style>\n",
       "<table border=\"1\" class=\"dataframe\">\n",
       "  <thead>\n",
       "    <tr style=\"text-align: right;\">\n",
       "      <th></th>\n",
       "      <th>title</th>\n",
       "      <th>year</th>\n",
       "      <th>vote_count</th>\n",
       "      <th>vote_average</th>\n",
       "      <th>genres</th>\n",
       "      <th>formula</th>\n",
       "    </tr>\n",
       "  </thead>\n",
       "  <tbody>\n",
       "    <tr>\n",
       "      <th>0</th>\n",
       "      <td>The Shawshank Redemption</td>\n",
       "      <td>1994.0</td>\n",
       "      <td>8358</td>\n",
       "      <td>8.5</td>\n",
       "      <td>[Drama, Crime]</td>\n",
       "      <td>8.357778</td>\n",
       "    </tr>\n",
       "    <tr>\n",
       "      <th>1</th>\n",
       "      <td>The Godfather</td>\n",
       "      <td>1972.0</td>\n",
       "      <td>6024</td>\n",
       "      <td>8.5</td>\n",
       "      <td>[Drama, Crime]</td>\n",
       "      <td>8.306376</td>\n",
       "    </tr>\n",
       "    <tr>\n",
       "      <th>2</th>\n",
       "      <td>The Dark Knight</td>\n",
       "      <td>2008.0</td>\n",
       "      <td>12269</td>\n",
       "      <td>8.3</td>\n",
       "      <td>[Drama, Action, Crime, Thriller]</td>\n",
       "      <td>8.208397</td>\n",
       "    </tr>\n",
       "    <tr>\n",
       "      <th>3</th>\n",
       "      <td>Fight Club</td>\n",
       "      <td>1999.0</td>\n",
       "      <td>9678</td>\n",
       "      <td>8.3</td>\n",
       "      <td>[Drama]</td>\n",
       "      <td>8.184925</td>\n",
       "    </tr>\n",
       "    <tr>\n",
       "      <th>4</th>\n",
       "      <td>Pulp Fiction</td>\n",
       "      <td>1994.0</td>\n",
       "      <td>8670</td>\n",
       "      <td>8.3</td>\n",
       "      <td>[Thriller, Crime]</td>\n",
       "      <td>8.172184</td>\n",
       "    </tr>\n",
       "    <tr>\n",
       "      <th>5</th>\n",
       "      <td>Forrest Gump</td>\n",
       "      <td>1994.0</td>\n",
       "      <td>8147</td>\n",
       "      <td>8.2</td>\n",
       "      <td>[Comedy, Drama, Romance]</td>\n",
       "      <td>8.069450</td>\n",
       "    </tr>\n",
       "    <tr>\n",
       "      <th>6</th>\n",
       "      <td>Schindler's List</td>\n",
       "      <td>1993.0</td>\n",
       "      <td>4436</td>\n",
       "      <td>8.3</td>\n",
       "      <td>[Drama, History, War]</td>\n",
       "      <td>8.061058</td>\n",
       "    </tr>\n",
       "    <tr>\n",
       "      <th>7</th>\n",
       "      <td>Whiplash</td>\n",
       "      <td>2014.0</td>\n",
       "      <td>4376</td>\n",
       "      <td>8.3</td>\n",
       "      <td>[Drama]</td>\n",
       "      <td>8.058077</td>\n",
       "    </tr>\n",
       "    <tr>\n",
       "      <th>8</th>\n",
       "      <td>Spirited Away</td>\n",
       "      <td>2001.0</td>\n",
       "      <td>3968</td>\n",
       "      <td>8.3</td>\n",
       "      <td>[Fantasy, Adventure, Animation, Family]</td>\n",
       "      <td>8.035654</td>\n",
       "    </tr>\n",
       "    <tr>\n",
       "      <th>9</th>\n",
       "      <td>The Empire Strikes Back</td>\n",
       "      <td>1980.0</td>\n",
       "      <td>5998</td>\n",
       "      <td>8.2</td>\n",
       "      <td>[Adventure, Action, Science Fiction]</td>\n",
       "      <td>8.025831</td>\n",
       "    </tr>\n",
       "  </tbody>\n",
       "</table>\n",
       "</div>"
      ],
      "text/plain": [
       "                      title    year  vote_count  vote_average  \\\n",
       "0  The Shawshank Redemption  1994.0        8358           8.5   \n",
       "1             The Godfather  1972.0        6024           8.5   \n",
       "2           The Dark Knight  2008.0       12269           8.3   \n",
       "3                Fight Club  1999.0        9678           8.3   \n",
       "4              Pulp Fiction  1994.0        8670           8.3   \n",
       "5              Forrest Gump  1994.0        8147           8.2   \n",
       "6          Schindler's List  1993.0        4436           8.3   \n",
       "7                  Whiplash  2014.0        4376           8.3   \n",
       "8             Spirited Away  2001.0        3968           8.3   \n",
       "9   The Empire Strikes Back  1980.0        5998           8.2   \n",
       "\n",
       "                                    genres   formula  \n",
       "0                           [Drama, Crime]  8.357778  \n",
       "1                           [Drama, Crime]  8.306376  \n",
       "2         [Drama, Action, Crime, Thriller]  8.208397  \n",
       "3                                  [Drama]  8.184925  \n",
       "4                        [Thriller, Crime]  8.172184  \n",
       "5                 [Comedy, Drama, Romance]  8.069450  \n",
       "6                    [Drama, History, War]  8.061058  \n",
       "7                                  [Drama]  8.058077  \n",
       "8  [Fantasy, Adventure, Animation, Family]  8.035654  \n",
       "9     [Adventure, Action, Science Fiction]  8.025831  "
      ]
     },
     "execution_count": 72,
     "metadata": {},
     "output_type": "execute_result"
    }
   ],
   "source": [
    "def the_best_formula(x, Q, C):\n",
    "    v = float(x['vote_count'])\n",
    "    R = x['vote_average']\n",
    "    #попробуй самостоятельно рассчитать формулу для взвешенного среднего\n",
    "    return (v/(v+Q) * R) + (Q/(Q+v) * C)\n",
    "\n",
    "def recommend_best(input_films, n_items):\n",
    "    rank = input_films.copy()\n",
    "    \n",
    "    C = rank.vote_average.mean()\n",
    "    Q = rank.vote_count.quantile(0.95)\n",
    "    print(\"Minimum number of votes: {}. Average overall rating: {}\".format(int(Q),C))\n",
    "    \n",
    "    #применим лучшую формулу ко всем строкам при помощи лямбда-функции\n",
    "    rank['formula'] = rank.apply(lambda x: the_best_formula(x, Q, C), axis='columns')\n",
    "    rank.sort_values('formula', ascending=False, inplace=True)\n",
    "    return rank.head(n_items).reset_index(drop=True)\n",
    "\n",
    "recommend_best(dataset, 10)"
   ]
  },
  {
   "cell_type": "markdown",
   "metadata": {},
   "source": [
    "Когда наша формула рейтинга уже не так плоха, пофантазируем, какие еще параметры фильма могут интересовать человека?\n",
    "\n",
    "До этого мы подготовили колонки **Жанры** и **Год выпуска фильма**. Давайте немного изменим формулу, чтобы учитывать жанр фильма и год выпуска. Формула должна принимать дополнительный параметр **Жанр**, если фильм содержит все жанры, которые выбирает пользователь. Только тогда фильм попадает в финальный рекомендованный рейтинг."
   ]
  },
  {
   "cell_type": "code",
   "execution_count": 74,
   "metadata": {},
   "outputs": [],
   "source": [
    "def recommend_by_genre(input_films, n_items, genres):\n",
    "    rank = input_films.copy()\n",
    "    \n",
    "    C = rank.vote_average.mean()\n",
    "    Q = rank.vote_count.quantile(0.95)\n",
    "    print(\"Minimum number of votes: {}. Average overall rating: {}\".format(int(Q),C))\n",
    "    rank['formula'] = rank.apply(lambda x: the_best_formula(x, Q, C), axis=1)\n",
    "    rank.sort_values('formula', ascending=False, inplace=True)\n",
    "    \n",
    "    rank['contains_genre'] = [all( y in x for y in genres) for x in rank.genres]\n",
    "    rank = rank[rank.contains_genre == True]\n",
    "    rank.drop('contains_genre', axis=1, inplace=True)\n",
    "\n",
    "    return rank.head(n_items).reset_index(drop=True)"
   ]
  },
  {
   "cell_type": "code",
   "execution_count": 76,
   "metadata": {},
   "outputs": [
    {
     "name": "stdout",
     "output_type": "stream",
     "text": [
      "Minimum number of votes: 433. Average overall rating: 5.618217011635541\n"
     ]
    },
    {
     "data": {
      "text/html": [
       "<div>\n",
       "<style scoped>\n",
       "    .dataframe tbody tr th:only-of-type {\n",
       "        vertical-align: middle;\n",
       "    }\n",
       "\n",
       "    .dataframe tbody tr th {\n",
       "        vertical-align: top;\n",
       "    }\n",
       "\n",
       "    .dataframe thead th {\n",
       "        text-align: right;\n",
       "    }\n",
       "</style>\n",
       "<table border=\"1\" class=\"dataframe\">\n",
       "  <thead>\n",
       "    <tr style=\"text-align: right;\">\n",
       "      <th></th>\n",
       "      <th>title</th>\n",
       "      <th>year</th>\n",
       "      <th>vote_count</th>\n",
       "      <th>vote_average</th>\n",
       "      <th>genres</th>\n",
       "      <th>formula</th>\n",
       "    </tr>\n",
       "  </thead>\n",
       "  <tbody>\n",
       "    <tr>\n",
       "      <th>0</th>\n",
       "      <td>The Empire Strikes Back</td>\n",
       "      <td>1980.0</td>\n",
       "      <td>5998</td>\n",
       "      <td>8.2</td>\n",
       "      <td>[Adventure, Action, Science Fiction]</td>\n",
       "      <td>8.025831</td>\n",
       "    </tr>\n",
       "    <tr>\n",
       "      <th>1</th>\n",
       "      <td>Inception</td>\n",
       "      <td>2010.0</td>\n",
       "      <td>14075</td>\n",
       "      <td>8.1</td>\n",
       "      <td>[Action, Thriller, Science Fiction, Mystery, A...</td>\n",
       "      <td>8.025780</td>\n",
       "    </tr>\n",
       "    <tr>\n",
       "      <th>2</th>\n",
       "      <td>Interstellar</td>\n",
       "      <td>2014.0</td>\n",
       "      <td>11187</td>\n",
       "      <td>8.1</td>\n",
       "      <td>[Adventure, Drama, Science Fiction]</td>\n",
       "      <td>8.007335</td>\n",
       "    </tr>\n",
       "    <tr>\n",
       "      <th>3</th>\n",
       "      <td>Star Wars</td>\n",
       "      <td>1977.0</td>\n",
       "      <td>6778</td>\n",
       "      <td>8.1</td>\n",
       "      <td>[Adventure, Action, Science Fiction]</td>\n",
       "      <td>7.950685</td>\n",
       "    </tr>\n",
       "    <tr>\n",
       "      <th>4</th>\n",
       "      <td>Back to the Future</td>\n",
       "      <td>1985.0</td>\n",
       "      <td>6239</td>\n",
       "      <td>8.0</td>\n",
       "      <td>[Adventure, Comedy, Science Fiction, Family]</td>\n",
       "      <td>7.845126</td>\n",
       "    </tr>\n",
       "    <tr>\n",
       "      <th>5</th>\n",
       "      <td>Guardians of the Galaxy</td>\n",
       "      <td>2014.0</td>\n",
       "      <td>10014</td>\n",
       "      <td>7.9</td>\n",
       "      <td>[Action, Science Fiction, Adventure]</td>\n",
       "      <td>7.805238</td>\n",
       "    </tr>\n",
       "    <tr>\n",
       "      <th>6</th>\n",
       "      <td>Return of the Jedi</td>\n",
       "      <td>1983.0</td>\n",
       "      <td>4763</td>\n",
       "      <td>7.9</td>\n",
       "      <td>[Adventure, Action, Science Fiction]</td>\n",
       "      <td>7.709489</td>\n",
       "    </tr>\n",
       "    <tr>\n",
       "      <th>7</th>\n",
       "      <td>2001: A Space Odyssey</td>\n",
       "      <td>1968.0</td>\n",
       "      <td>3075</td>\n",
       "      <td>7.9</td>\n",
       "      <td>[Science Fiction, Mystery, Adventure]</td>\n",
       "      <td>7.617842</td>\n",
       "    </tr>\n",
       "    <tr>\n",
       "      <th>8</th>\n",
       "      <td>The Martian</td>\n",
       "      <td>2015.0</td>\n",
       "      <td>7442</td>\n",
       "      <td>7.6</td>\n",
       "      <td>[Drama, Adventure, Science Fiction]</td>\n",
       "      <td>7.490819</td>\n",
       "    </tr>\n",
       "    <tr>\n",
       "      <th>9</th>\n",
       "      <td>Captain America: The Winter Soldier</td>\n",
       "      <td>2014.0</td>\n",
       "      <td>5881</td>\n",
       "      <td>7.6</td>\n",
       "      <td>[Action, Adventure, Science Fiction]</td>\n",
       "      <td>7.463831</td>\n",
       "    </tr>\n",
       "  </tbody>\n",
       "</table>\n",
       "</div>"
      ],
      "text/plain": [
       "                                 title    year  vote_count  vote_average  \\\n",
       "0              The Empire Strikes Back  1980.0        5998           8.2   \n",
       "1                            Inception  2010.0       14075           8.1   \n",
       "2                         Interstellar  2014.0       11187           8.1   \n",
       "3                            Star Wars  1977.0        6778           8.1   \n",
       "4                   Back to the Future  1985.0        6239           8.0   \n",
       "5              Guardians of the Galaxy  2014.0       10014           7.9   \n",
       "6                   Return of the Jedi  1983.0        4763           7.9   \n",
       "7                2001: A Space Odyssey  1968.0        3075           7.9   \n",
       "8                          The Martian  2015.0        7442           7.6   \n",
       "9  Captain America: The Winter Soldier  2014.0        5881           7.6   \n",
       "\n",
       "                                              genres   formula  \n",
       "0               [Adventure, Action, Science Fiction]  8.025831  \n",
       "1  [Action, Thriller, Science Fiction, Mystery, A...  8.025780  \n",
       "2                [Adventure, Drama, Science Fiction]  8.007335  \n",
       "3               [Adventure, Action, Science Fiction]  7.950685  \n",
       "4       [Adventure, Comedy, Science Fiction, Family]  7.845126  \n",
       "5               [Action, Science Fiction, Adventure]  7.805238  \n",
       "6               [Adventure, Action, Science Fiction]  7.709489  \n",
       "7              [Science Fiction, Mystery, Adventure]  7.617842  \n",
       "8                [Drama, Adventure, Science Fiction]  7.490819  \n",
       "9               [Action, Adventure, Science Fiction]  7.463831  "
      ]
     },
     "execution_count": 76,
     "metadata": {},
     "output_type": "execute_result"
    }
   ],
   "source": [
    "recommend_by_genre(dataset, 10, genres=['Comedy', 'Horror'])"
   ]
  },
  {
   "cell_type": "markdown",
   "metadata": {},
   "source": [
    "Супер, теперь мы можем выбирать произвольные жанры фильмов."
   ]
  },
  {
   "cell_type": "markdown",
   "metadata": {},
   "source": [
    "То же самое сделаем с параметром **год выпуска фильма**. У формулы появляется ещё один параметр, если фильм был выпущен в указанный год или позже, тогда он попадает в финальную выдачу."
   ]
  },
  {
   "cell_type": "code",
   "execution_count": 77,
   "metadata": {},
   "outputs": [],
   "source": [
    "def recommend_by_genre_and_year(input_films, n_items, min_votes, genres, not_older_than):\n",
    "    \n",
    "    rank = input_films.copy()\n",
    "    \n",
    "    C = rank.vote_average.mean()\n",
    "    Q = rank.vote_count.quantile(0.95)\n",
    "    print(\"Minimum number of votes: {}. Average overall rating: {}\".format(int(Q),C))\n",
    "    rank['formula'] = rank.apply(lambda x: the_best_formula(x, Q, C), axis=1)\n",
    "    rank.sort_values('formula', ascending=False, inplace=True)\n",
    "    \n",
    "    rank['contains_genre'] = [all( y in x for y in genres) for x in rank.genres]\n",
    "    rank = rank[(rank.contains_genre == True) & (rank.year >= not_older_than)]\n",
    "    rank.drop('contains_genre', axis=1, inplace=True)\n",
    "    \n",
    "    return rank.head(n_items).reset_index(drop=True)"
   ]
  },
  {
   "cell_type": "code",
   "execution_count": 79,
   "metadata": {},
   "outputs": [
    {
     "name": "stdout",
     "output_type": "stream",
     "text": [
      "Minimum number of votes: 433. Average overall rating: 5.618217011635541\n"
     ]
    },
    {
     "data": {
      "text/html": [
       "<div>\n",
       "<style scoped>\n",
       "    .dataframe tbody tr th:only-of-type {\n",
       "        vertical-align: middle;\n",
       "    }\n",
       "\n",
       "    .dataframe tbody tr th {\n",
       "        vertical-align: top;\n",
       "    }\n",
       "\n",
       "    .dataframe thead th {\n",
       "        text-align: right;\n",
       "    }\n",
       "</style>\n",
       "<table border=\"1\" class=\"dataframe\">\n",
       "  <thead>\n",
       "    <tr style=\"text-align: right;\">\n",
       "      <th></th>\n",
       "      <th>title</th>\n",
       "      <th>year</th>\n",
       "      <th>vote_count</th>\n",
       "      <th>vote_average</th>\n",
       "      <th>genres</th>\n",
       "      <th>formula</th>\n",
       "    </tr>\n",
       "  </thead>\n",
       "  <tbody>\n",
       "    <tr>\n",
       "      <th>0</th>\n",
       "      <td>What We Do in the Shadows</td>\n",
       "      <td>2014.0</td>\n",
       "      <td>779</td>\n",
       "      <td>7.4</td>\n",
       "      <td>[Comedy, Horror]</td>\n",
       "      <td>6.762589</td>\n",
       "    </tr>\n",
       "    <tr>\n",
       "      <th>1</th>\n",
       "      <td>Warm Bodies</td>\n",
       "      <td>2013.0</td>\n",
       "      <td>2698</td>\n",
       "      <td>6.4</td>\n",
       "      <td>[Horror, Comedy, Romance]</td>\n",
       "      <td>6.291690</td>\n",
       "    </tr>\n",
       "    <tr>\n",
       "      <th>2</th>\n",
       "      <td>The Final Girls</td>\n",
       "      <td>2015.0</td>\n",
       "      <td>371</td>\n",
       "      <td>6.6</td>\n",
       "      <td>[Horror, Comedy]</td>\n",
       "      <td>6.070747</td>\n",
       "    </tr>\n",
       "    <tr>\n",
       "      <th>3</th>\n",
       "      <td>Goosebumps</td>\n",
       "      <td>2015.0</td>\n",
       "      <td>1022</td>\n",
       "      <td>6.2</td>\n",
       "      <td>[Adventure, Horror, Comedy]</td>\n",
       "      <td>6.026612</td>\n",
       "    </tr>\n",
       "    <tr>\n",
       "      <th>4</th>\n",
       "      <td>Housebound</td>\n",
       "      <td>2014.0</td>\n",
       "      <td>362</td>\n",
       "      <td>6.5</td>\n",
       "      <td>[Horror, Comedy, Thriller]</td>\n",
       "      <td>6.019279</td>\n",
       "    </tr>\n",
       "    <tr>\n",
       "      <th>5</th>\n",
       "      <td>Dead Snow 2: Red vs. Dead</td>\n",
       "      <td>2014.0</td>\n",
       "      <td>199</td>\n",
       "      <td>6.7</td>\n",
       "      <td>[Horror, Action, Comedy]</td>\n",
       "      <td>5.958357</td>\n",
       "    </tr>\n",
       "    <tr>\n",
       "      <th>6</th>\n",
       "      <td>The Voices</td>\n",
       "      <td>2014.0</td>\n",
       "      <td>578</td>\n",
       "      <td>6.2</td>\n",
       "      <td>[Comedy, Crime, Horror, Thriller]</td>\n",
       "      <td>5.950533</td>\n",
       "    </tr>\n",
       "    <tr>\n",
       "      <th>7</th>\n",
       "      <td>Scouts Guide to the Zombie Apocalypse</td>\n",
       "      <td>2015.0</td>\n",
       "      <td>526</td>\n",
       "      <td>6.2</td>\n",
       "      <td>[Comedy, Horror]</td>\n",
       "      <td>5.937019</td>\n",
       "    </tr>\n",
       "    <tr>\n",
       "      <th>8</th>\n",
       "      <td>John Dies at the End</td>\n",
       "      <td>2012.0</td>\n",
       "      <td>257</td>\n",
       "      <td>6.3</td>\n",
       "      <td>[Horror, Comedy]</td>\n",
       "      <td>5.871826</td>\n",
       "    </tr>\n",
       "    <tr>\n",
       "      <th>9</th>\n",
       "      <td>Fright Night</td>\n",
       "      <td>2011.0</td>\n",
       "      <td>617</td>\n",
       "      <td>6.0</td>\n",
       "      <td>[Horror, Comedy]</td>\n",
       "      <td>5.842368</td>\n",
       "    </tr>\n",
       "    <tr>\n",
       "      <th>10</th>\n",
       "      <td>Deathgasm</td>\n",
       "      <td>2015.0</td>\n",
       "      <td>172</td>\n",
       "      <td>6.4</td>\n",
       "      <td>[Comedy, Horror]</td>\n",
       "      <td>5.840146</td>\n",
       "    </tr>\n",
       "    <tr>\n",
       "      <th>11</th>\n",
       "      <td>He Never Died</td>\n",
       "      <td>2015.0</td>\n",
       "      <td>144</td>\n",
       "      <td>6.3</td>\n",
       "      <td>[Thriller, Horror, Comedy, Drama]</td>\n",
       "      <td>5.788102</td>\n",
       "    </tr>\n",
       "    <tr>\n",
       "      <th>12</th>\n",
       "      <td>Krampus</td>\n",
       "      <td>2015.0</td>\n",
       "      <td>601</td>\n",
       "      <td>5.9</td>\n",
       "      <td>[Horror, Comedy, Fantasy]</td>\n",
       "      <td>5.781858</td>\n",
       "    </tr>\n",
       "    <tr>\n",
       "      <th>13</th>\n",
       "      <td>The Bar</td>\n",
       "      <td>2017.0</td>\n",
       "      <td>122</td>\n",
       "      <td>6.3</td>\n",
       "      <td>[Horror, Thriller, Comedy]</td>\n",
       "      <td>5.767844</td>\n",
       "    </tr>\n",
       "    <tr>\n",
       "      <th>14</th>\n",
       "      <td>Witching &amp; Bitching</td>\n",
       "      <td>2013.0</td>\n",
       "      <td>182</td>\n",
       "      <td>6.0</td>\n",
       "      <td>[Comedy, Horror]</td>\n",
       "      <td>5.731035</td>\n",
       "    </tr>\n",
       "  </tbody>\n",
       "</table>\n",
       "</div>"
      ],
      "text/plain": [
       "                                    title    year  vote_count  vote_average  \\\n",
       "0               What We Do in the Shadows  2014.0         779           7.4   \n",
       "1                             Warm Bodies  2013.0        2698           6.4   \n",
       "2                         The Final Girls  2015.0         371           6.6   \n",
       "3                              Goosebumps  2015.0        1022           6.2   \n",
       "4                              Housebound  2014.0         362           6.5   \n",
       "5               Dead Snow 2: Red vs. Dead  2014.0         199           6.7   \n",
       "6                              The Voices  2014.0         578           6.2   \n",
       "7   Scouts Guide to the Zombie Apocalypse  2015.0         526           6.2   \n",
       "8                    John Dies at the End  2012.0         257           6.3   \n",
       "9                            Fright Night  2011.0         617           6.0   \n",
       "10                              Deathgasm  2015.0         172           6.4   \n",
       "11                          He Never Died  2015.0         144           6.3   \n",
       "12                                Krampus  2015.0         601           5.9   \n",
       "13                                The Bar  2017.0         122           6.3   \n",
       "14                    Witching & Bitching  2013.0         182           6.0   \n",
       "\n",
       "                               genres   formula  \n",
       "0                    [Comedy, Horror]  6.762589  \n",
       "1           [Horror, Comedy, Romance]  6.291690  \n",
       "2                    [Horror, Comedy]  6.070747  \n",
       "3         [Adventure, Horror, Comedy]  6.026612  \n",
       "4          [Horror, Comedy, Thriller]  6.019279  \n",
       "5            [Horror, Action, Comedy]  5.958357  \n",
       "6   [Comedy, Crime, Horror, Thriller]  5.950533  \n",
       "7                    [Comedy, Horror]  5.937019  \n",
       "8                    [Horror, Comedy]  5.871826  \n",
       "9                    [Horror, Comedy]  5.842368  \n",
       "10                   [Comedy, Horror]  5.840146  \n",
       "11  [Thriller, Horror, Comedy, Drama]  5.788102  \n",
       "12          [Horror, Comedy, Fantasy]  5.781858  \n",
       "13         [Horror, Thriller, Comedy]  5.767844  \n",
       "14                   [Comedy, Horror]  5.731035  "
      ]
     },
     "execution_count": 79,
     "metadata": {},
     "output_type": "execute_result"
    }
   ],
   "source": [
    "recommend_by_genre_and_year(dataset, 15, 150, genres=['Comedy', 'Horror'], not_older_than=2011)"
   ]
  },
  {
   "cell_type": "markdown",
   "metadata": {},
   "source": [
    "По аналогии ты можешь добавлять любые другие параметры в свою рекомендательную систему.\n",
    "____"
   ]
  },
  {
   "cell_type": "code",
   "execution_count": 106,
   "metadata": {},
   "outputs": [],
   "source": [
    "def recommend_adult_by_year(input_films, n_items, min_votes, not_older_than, adult):\n",
    "    \n",
    "    rank = input_films.copy()\n",
    "    \n",
    "    C = rank.vote_average.mean()\n",
    "    Q = rank.vote_count.quantile(0.95)\n",
    "    print(\"Minimum number of votes: {}. Average overall rating: {}\".format(int(Q),C))\n",
    "    rank['formula'] = rank.apply(lambda x: the_best_formula(x, Q, C), axis=1)\n",
    "    rank.sort_values('formula', ascending=False, inplace=True)\n",
    "    \n",
    "    rank = rank[(rank.year >= not_older_than) & (rank.adult == adult)]\n",
    "    \n",
    "    return rank.head(n_items).reset_index(drop=True)"
   ]
  },
  {
   "cell_type": "code",
   "execution_count": 107,
   "metadata": {},
   "outputs": [
    {
     "name": "stdout",
     "output_type": "stream",
     "text": [
      "Minimum number of votes: 433. Average overall rating: 5.618217011635541\n"
     ]
    },
    {
     "data": {
      "text/html": [
       "<div>\n",
       "<style scoped>\n",
       "    .dataframe tbody tr th:only-of-type {\n",
       "        vertical-align: middle;\n",
       "    }\n",
       "\n",
       "    .dataframe tbody tr th {\n",
       "        vertical-align: top;\n",
       "    }\n",
       "\n",
       "    .dataframe thead th {\n",
       "        text-align: right;\n",
       "    }\n",
       "</style>\n",
       "<table border=\"1\" class=\"dataframe\">\n",
       "  <thead>\n",
       "    <tr style=\"text-align: right;\">\n",
       "      <th></th>\n",
       "      <th>title</th>\n",
       "      <th>year</th>\n",
       "      <th>vote_count</th>\n",
       "      <th>vote_average</th>\n",
       "      <th>genres</th>\n",
       "      <th>adult</th>\n",
       "      <th>formula</th>\n",
       "    </tr>\n",
       "  </thead>\n",
       "  <tbody>\n",
       "    <tr>\n",
       "      <th>0</th>\n",
       "      <td>Adulterers</td>\n",
       "      <td>2016.0</td>\n",
       "      <td>16</td>\n",
       "      <td>5.2</td>\n",
       "      <td>[Thriller, Crime, Drama]</td>\n",
       "      <td>True</td>\n",
       "      <td>5.603344</td>\n",
       "    </tr>\n",
       "    <tr>\n",
       "      <th>1</th>\n",
       "      <td>Diet of Sex</td>\n",
       "      <td>2014.0</td>\n",
       "      <td>12</td>\n",
       "      <td>4.0</td>\n",
       "      <td>[Comedy, Drama, Romance]</td>\n",
       "      <td>True</td>\n",
       "      <td>5.574668</td>\n",
       "    </tr>\n",
       "  </tbody>\n",
       "</table>\n",
       "</div>"
      ],
      "text/plain": [
       "         title    year  vote_count  vote_average                    genres  \\\n",
       "0   Adulterers  2016.0          16           5.2  [Thriller, Crime, Drama]   \n",
       "1  Diet of Sex  2014.0          12           4.0  [Comedy, Drama, Romance]   \n",
       "\n",
       "   adult   formula  \n",
       "0   True  5.603344  \n",
       "1   True  5.574668  "
      ]
     },
     "execution_count": 107,
     "metadata": {},
     "output_type": "execute_result"
    }
   ],
   "source": [
    "recommend_adult_by_year(dataset, 15, 150, not_older_than=2011, adult = True)"
   ]
  },
  {
   "cell_type": "markdown",
   "metadata": {},
   "source": [
    "# Итоги"
   ]
  },
  {
   "cell_type": "markdown",
   "metadata": {},
   "source": [
    "Ты разработал простую рекомендательную систему. Она строится на предположении, что фильмы, которые нравятся большинству, понравятся и тебе. Конечно, это не совсем так, поэтому в следующих заданиях мы учтём персональные вкусы и запрограммируем более интеллектуальные рекомендательные системы."
   ]
  }
 ],
 "metadata": {
  "kernelspec": {
   "display_name": "Python 3",
   "language": "python",
   "name": "python3"
  },
  "language_info": {
   "codemirror_mode": {
    "name": "ipython",
    "version": 3
   },
   "file_extension": ".py",
   "mimetype": "text/x-python",
   "name": "python",
   "nbconvert_exporter": "python",
   "pygments_lexer": "ipython3",
   "version": "3.8.3"
  }
 },
 "nbformat": 4,
 "nbformat_minor": 2
}
